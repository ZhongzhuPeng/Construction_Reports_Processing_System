{
 "cells": [
  {
   "cell_type": "code",
   "execution_count": 1,
   "metadata": {
    "collapsed": true,
    "deletable": true,
    "editable": true
   },
   "outputs": [],
   "source": [
    "doc = open('Seattle_Reports.txt', 'rb')\n",
    "text = doc.read()\n",
    "head = '''CONTRACTORS QUALITY CONTROL REPORT (QCR)\n",
    "DAILY LOG OF CONSTRUCTION - MILITARY'''"
   ]
  },
  {
   "cell_type": "code",
   "execution_count": 2,
   "metadata": {
    "collapsed": false,
    "deletable": true,
    "editable": true
   },
   "outputs": [
    {
     "name": "stdout",
     "output_type": "stream",
     "text": [
      "881 \n",
      "881\n"
     ]
    }
   ],
   "source": [
    "contents = {}\n",
    "fileNum_reptNum = {}\n",
    "fileNum_date = {}\n",
    "start = 0\n",
    "\n",
    "import re\n",
    "\n",
    "fileNum = 0\n",
    "\n",
    "curPos = text.find(head, start)\n",
    "for i in range(0, 2027):\n",
    "    start = curPos + 1\n",
    "    nextPos = text.find(head, start)\n",
    "    content = text[curPos+len(head) : nextPos] #get content of reports\n",
    "    curPos = nextPos\n",
    "    \n",
    "    #re_page = re.compile(r'Page [\\d] of')\n",
    "    if r'Page 1 of' in content:\n",
    "        fileNum += 1\n",
    "        repNum = text[text.find(r'Page 1 of', start)-7 : text.find(r'Page 1 of', start)-2].replace('\\n','').replace('R','')\n",
    "        fileNum_reptNum[fileNum] = repNum\n",
    "        \n",
    "        date = text[text.find(r'DATE', start)+4 : text.find(r'PROJECT', start)].replace('\\n', '')\n",
    "        fileNum_date[fileNum] = date  \n",
    "        \n",
    "        contents[fileNum] = content\n",
    "    else:\n",
    "        contents[fileNum] = contents.get(fileNum)+content\n",
    "        \n",
    "    #print contents[fileNum]\n",
    "print len(contents), '\\n', fileNum"
   ]
  },
  {
   "cell_type": "code",
   "execution_count": 3,
   "metadata": {
    "collapsed": true
   },
   "outputs": [],
   "source": [
    "doc = open('classification.txt', 'rb')\n",
    "classification2_text = doc.readlines()"
   ]
  },
  {
   "cell_type": "code",
   "execution_count": 4,
   "metadata": {
    "collapsed": false
   },
   "outputs": [],
   "source": [
    "from nltk.stem import PorterStemmer\n",
    "from nltk.tokenize import sent_tokenize, word_tokenize\n",
    "ps = PorterStemmer()\n",
    "\n",
    "f = open('HTML/search_keywords.html', 'w')\n",
    "f.write(\"<html>\\n\")\n",
    "f.write(\"<head> Search Keywords\\n\")\n",
    "f.write(\"    <script type=\\\"text/javascript\\\" src=\\\"mktree.js\\\"></script>\\n\")\n",
    "f.write(\"    <link rel=\\\"stylesheet\\\" href=\\\"mktree.css\\\" type=\\\"text/css\\\">\\n\")\n",
    "f.write(\"</head>\\n\\n\")\n",
    "f.write(\"<body>\\n\")\n",
    "f.write(\"<ul class=\\\"mktree\\\">\\n\")\n",
    "\n",
    "has_subdir = False\n",
    "has_record = False\n",
    "\n",
    "#f.write(\"Search Keywords\")\n",
    "\n",
    "for line in classification2_text:\n",
    "    line = line.strip()\n",
    "    \n",
    "    if re.match(r'^(\\d{5})(.+)', line):\n",
    "        if not has_subdir:\n",
    "            has_subdir = True\n",
    "            f.write(\"    <ul>\\n\")\n",
    "        f.write(\"    <li>\"+line+\"\\n\")\n",
    "        \n",
    "        pattern = re.compile(r'\"(.+?)\"') #not greedy match\n",
    "        element = pattern.findall(line)\n",
    "        if len(element) > 0:\n",
    "            #f.write(\"    <ul>\\n\")\n",
    "            for keywords in element:\n",
    "                keywords = keywords.split(' + ')  #extract keywords\n",
    "                for i in range(1,881):\n",
    "                    for line in contents[i].split('\\n'):\n",
    "                        line = line.decode('utf-8')\n",
    "                        #print line\n",
    "                        l = set([])\n",
    "                        k = set([])\n",
    "                        for w1 in line.split():\n",
    "                            l.add(ps.stem(w1))\n",
    "                        for w2 in keywords:\n",
    "                            k.add(ps.stem(w2))\n",
    "                        #if not [False for word in keywords if ps.stem(word) not in l]:\n",
    "                        if k < l:\n",
    "                            if not has_record:\n",
    "                                has_record = True\n",
    "                                f.write(\"\\n        <ul>\")\n",
    "                            f.write(\"    <li> Report Number: \"+fileNum_reptNum[i]+\"\\t Date: \"+fileNum_date[i]+\"\\n    \"+line.encode('utf-8')+\"</li>\\n\")\n",
    "            if has_record:\n",
    "                has_record = False\n",
    "                f.write(\"        </ul>\\n\")\n",
    "        f.write(\"    </li>\")\n",
    "        \n",
    "    elif re.match(r'[A-Z](\\d{4})(.+)', line):\n",
    "        if has_subdir:\n",
    "            has_subdir = False\n",
    "            f.write(\"\\n</ul>\")\n",
    "        f.write(\"\\n</li>\")\n",
    "        f.write(\"\\n<li>\"+line+\"\\n\")\n",
    "    \n",
    "    else:\n",
    "        f.write(\"\\n</li>\")\n",
    "        f.write(\"\\n<li>\"+line+\"\\n\")\n",
    "#f.write(\"\\n</ul></li>\")\n",
    "    \n",
    "f.write(\"</ul>\\n\")\n",
    "f.write(\"</body>\\n\")\n",
    "f.write(\"</html>\\n\")\n",
    "f.close()"
   ]
  },
  {
   "cell_type": "code",
   "execution_count": null,
   "metadata": {
    "collapsed": true
   },
   "outputs": [],
   "source": []
  }
 ],
 "metadata": {
  "kernelspec": {
   "display_name": "Python 2",
   "language": "python",
   "name": "python2"
  },
  "language_info": {
   "codemirror_mode": {
    "name": "ipython",
    "version": 2
   },
   "file_extension": ".py",
   "mimetype": "text/x-python",
   "name": "python",
   "nbconvert_exporter": "python",
   "pygments_lexer": "ipython2",
   "version": "2.7.13"
  }
 },
 "nbformat": 4,
 "nbformat_minor": 2
}
